{
 "cells": [
  {
   "cell_type": "code",
   "execution_count": 2,
   "metadata": {},
   "outputs": [],
   "source": [
    "# Set a root directory\n",
    "import os\n",
    "import sys \n",
    "os.chdir(\"/Users/evgenii/Documents/Workspace/TCR/TITAN_dev/\")\n",
    "sys.path[0] = \"/Users/evgenii/Documents/Workspace/TCR/TITAN_dev/\""
   ]
  },
  {
   "cell_type": "code",
   "execution_count": 3,
   "metadata": {},
   "outputs": [],
   "source": [
    "# Notebook to evaluate K-NN baseline on cross validation\n",
    "\"\"\"\n",
    "Evaluate lazy KNN baseline predictor in a Cross-Validation setting.\n",
    "Can be used in 2 modes.\n",
    "    - shared    : Assumes that epitope_fp and tcr_fp contain all epitopes and tcrs that\n",
    "        are used in training and testng dataset.\n",
    "    - separate  : Assumes that two paths are passed for both TCRs and epitopes.\n",
    "        - epitope_fp: Path to file containing all epitopes used in training.\n",
    "        - epitope_test_fp: Path to file containing all epitopes used in testing.\n",
    "        - tcr_fp: Path to file containing all TCRs used in training.\n",
    "        - tcr_test_fp: Path to file containing all TCRs used in testing.\n",
    "\n",
    "The default mode is 'shared' which is used iff the two optional args '-test_ep' and\n",
    "'-test_tcr' are left empty (i.e., their default).\n",
    "\"\"\"\n",
    "import argparse\n",
    "import json\n",
    "import logging\n",
    "import os\n",
    "import sys\n",
    "\n",
    "import numpy as np\n",
    "import pandas as pd\n",
    "from pytoda.files import read_smi\n",
    "from sklearn.metrics import (\n",
    "    accuracy_score, auc, average_precision_score, balanced_accuracy_score,\n",
    "    confusion_matrix, matthews_corrcoef, precision_score, roc_curve\n",
    ")"
   ]
  },
  {
   "cell_type": "code",
   "execution_count": 5,
   "metadata": {},
   "outputs": [],
   "source": [
    "from source.models import knn\n",
    "from source.utils.plot_knn import plot_roc_prc\n",
    "from source.utils.utils import cutoff_youdens_j"
   ]
  },
  {
   "cell_type": "code",
   "execution_count": 11,
   "metadata": {},
   "outputs": [],
   "source": [
    "# python3 scripts/knn_cv.py \\\n",
    "# -d path_to_data_folder \\\n",
    "# -tr name_of_training_data_files.csv \\\n",
    "# -te name_of_testing_data_files.csv \\\n",
    "# -f 10 \\\n",
    "# -ep path_to_epitope_file.ccsv \\\n",
    "# -tcr path_to_tcr_file.csv \\\n",
    "# -r path_to_result_folder \\\n",
    "# -k 25\n",
    "\n",
    "\n",
    "# args.data_path, args.train_name, args.test_name, args.num_folds,\n",
    "#         args.epitope_fp, args.tcr_fp, args.results_path, args.k,\n",
    "#         args.test_epitope_fp, args.test_tcr_fp\n",
    "\n",
    "# Arguments to pass\n",
    "logger = logging.getLogger('knn_prediction')\n",
    "logging.getLogger('matplotlib.font_manager').disabled = True\n",
    "\n",
    "data_path = \"data/preprocessed/tcr_split/\"\n",
    "train_name = \"train.csv\"\n",
    "test_name = \"test.csv\"\n",
    "num_folds = 10\n",
    "\n",
    "results_path = \"results/knn_model/\"\n",
    "k = 25\n",
    "test_epitope_fp = '.'\n",
    "test_tcr_fp = '.'"
   ]
  },
  {
   "cell_type": "code",
   "execution_count": 7,
   "metadata": {},
   "outputs": [],
   "source": [
    "# All the available datapoints from datasets\n",
    "epitope_fp = \"data/raw/epitopes.csv\"\n",
    "tcr_fp = \"data/raw/tcr.csv\"\n",
    "\n",
    "# Function read a .smi (or .csv file with tab-separated values) in a pd.DataFrame.\n",
    "train_epi = read_smi(epitope_fp, names=['data'])\n",
    "train_tcr = read_smi(tcr_fp, names=['data'])\n",
    "\n",
    "# test_epitope_fp is not required. It is optional\n",
    "test_epi = train_epi if test_epitope_fp == '.' else read_smi(\n",
    "    test_epitope_fp, names=['data']\n",
    ")\n",
    "test_tcr = train_tcr if test_tcr_fp == '.' else read_smi(\n",
    "    test_tcr_fp, names=['data']\n",
    ")"
   ]
  },
  {
   "cell_type": "code",
   "execution_count": 12,
   "metadata": {},
   "outputs": [
    {
     "data": {
      "text/html": [
       "<div>\n",
       "<style scoped>\n",
       "    .dataframe tbody tr th:only-of-type {\n",
       "        vertical-align: middle;\n",
       "    }\n",
       "\n",
       "    .dataframe tbody tr th {\n",
       "        vertical-align: top;\n",
       "    }\n",
       "\n",
       "    .dataframe thead th {\n",
       "        text-align: right;\n",
       "    }\n",
       "</style>\n",
       "<table border=\"1\" class=\"dataframe\">\n",
       "  <thead>\n",
       "    <tr style=\"text-align: right;\">\n",
       "      <th></th>\n",
       "      <th>data</th>\n",
       "    </tr>\n",
       "  </thead>\n",
       "  <tbody>\n",
       "    <tr>\n",
       "      <th>2</th>\n",
       "      <td>CSATILAGVPYGEQYF</td>\n",
       "    </tr>\n",
       "    <tr>\n",
       "      <th>3</th>\n",
       "      <td>CSASEGTSSYEQYF</td>\n",
       "    </tr>\n",
       "    <tr>\n",
       "      <th>4</th>\n",
       "      <td>CASSFDREVTGELFF</td>\n",
       "    </tr>\n",
       "    <tr>\n",
       "      <th>5</th>\n",
       "      <td>CASSVGAGTEAFF</td>\n",
       "    </tr>\n",
       "    <tr>\n",
       "      <th>6</th>\n",
       "      <td>CAISESGYGGPPGANVLTF</td>\n",
       "    </tr>\n",
       "    <tr>\n",
       "      <th>...</th>\n",
       "      <td>...</td>\n",
       "    </tr>\n",
       "    <tr>\n",
       "      <th>23140</th>\n",
       "      <td>CASPDGWGYTF</td>\n",
       "    </tr>\n",
       "    <tr>\n",
       "      <th>23141</th>\n",
       "      <td>CASSGAPLLEQYF</td>\n",
       "    </tr>\n",
       "    <tr>\n",
       "      <th>23142</th>\n",
       "      <td>CASSPSGTFYEQYF</td>\n",
       "    </tr>\n",
       "    <tr>\n",
       "      <th>23143</th>\n",
       "      <td>CSVWGTGKTYEQYF</td>\n",
       "    </tr>\n",
       "    <tr>\n",
       "      <th>23144</th>\n",
       "      <td>CSVWGEGRSYEQYF</td>\n",
       "    </tr>\n",
       "  </tbody>\n",
       "</table>\n",
       "<p>23143 rows × 1 columns</p>\n",
       "</div>"
      ],
      "text/plain": [
       "                      data\n",
       "2         CSATILAGVPYGEQYF\n",
       "3           CSASEGTSSYEQYF\n",
       "4          CASSFDREVTGELFF\n",
       "5            CASSVGAGTEAFF\n",
       "6      CAISESGYGGPPGANVLTF\n",
       "...                    ...\n",
       "23140          CASPDGWGYTF\n",
       "23141        CASSGAPLLEQYF\n",
       "23142       CASSPSGTFYEQYF\n",
       "23143       CSVWGTGKTYEQYF\n",
       "23144       CSVWGEGRSYEQYF\n",
       "\n",
       "[23143 rows x 1 columns]"
      ]
     },
     "execution_count": 12,
     "metadata": {},
     "output_type": "execute_result"
    }
   ],
   "source": [
    "train_tcr"
   ]
  },
  {
   "cell_type": "code",
   "execution_count": 13,
   "metadata": {},
   "outputs": [
    {
     "data": {
      "text/plain": [
       "[[], [], [], [], [], [], [], [], [], [], [], [], []]"
      ]
     },
     "execution_count": 13,
     "metadata": {},
     "output_type": "execute_result"
    }
   ],
   "source": [
    "# Create right amount of empty lists\n",
    "# K for the KNN classification. Note that classification reports are generated\n",
    "all_results = np.empty((np.ceil(k / 2).astype(int), 0)).tolist()\n",
    "all_results"
   ]
  },
  {
   "cell_type": "code",
   "execution_count": 14,
   "metadata": {},
   "outputs": [],
   "source": [
    "# Loop through each folder\n",
    "for fold in range(num_folds):\n",
    "    train_data = pd.read_csv(\n",
    "        os.path.join(data_path, f'fold{fold}', train_name), index_col=0\n",
    "    )\n",
    "    test_data = pd.read_csv(\n",
    "        os.path.join(data_path, f'fold{fold}', test_name), index_col=0\n",
    "    )\n",
    "\n",
    "    # Read each folder indices for train/test from tcr_fp/epitope_fp (overall data)\n",
    "    train_epitopes = train_epi.loc[train_data['ligand_name']]['data']\n",
    "    train_tcrs = train_tcr.loc[train_data['sequence_id']]['data']\n",
    "    test_epitopes = test_epi.loc[test_data['ligand_name']]['data']\n",
    "    test_tcrs = test_tcr.loc[test_data['sequence_id']]['data']\n",
    "    train_labels = train_data['label']\n",
    "    test_labels = test_data['label']\n",
    "\n",
    "    # Originally imported class. Pasted in the cell below\n",
    "    # # Classify data\n",
    "    # predictions, knn_labels = knn(\n",
    "    #     train_epitopes,\n",
    "    #     train_tcrs,\n",
    "    #     train_labels,\n",
    "    #     test_epitopes,\n",
    "    #     test_tcrs,\n",
    "    #     k=k,\n",
    "    #     return_knn_labels=True,\n",
    "    # )\n",
    "    \n",
    "    logger.info(f'Fold {fold}: Data loaded')\n",
    "    break"
   ]
  },
  {
   "cell_type": "code",
   "execution_count": 15,
   "metadata": {},
   "outputs": [
    {
     "name": "stdout",
     "output_type": "stream",
     "text": [
      "len(train_tcrs): 19078, len(test_tcrs): 23143 \n"
     ]
    }
   ],
   "source": [
    "# KNN code\n",
    "from typing import Iterable, List\n",
    "\n",
    "import numpy as np\n",
    "from Levenshtein import distance as levenshtein_distance\n",
    "\n",
    "return_knn_labels = False\n",
    "\n",
    "assert isinstance(train_epitopes, Iterable)\n",
    "assert isinstance(train_tcrs, Iterable)\n",
    "assert isinstance(train_labels, Iterable)\n",
    "assert isinstance(test_epitopes, Iterable)\n",
    "assert isinstance(test_tcrs, Iterable)\n",
    "\n",
    "assert len(test_tcrs) == len(test_epitopes), 'Test data lengths dont match'\n",
    "assert len(train_epitopes\n",
    "            ) == len(train_tcrs), 'Test data lengths dont match'\n",
    "assert len(train_epitopes\n",
    "            ) == len(train_labels), 'Test data lengths dont match'\n",
    "\n",
    "print(f\"len(train_tcrs): {len(train_tcrs)}, len(test_tcrs): {len(test_tcr)} \")\n",
    "\n",
    "predictions, knn_labels = [], []\n",
    "for epitope, tcr in zip(test_epitopes, test_tcrs):\n",
    "\n",
    "    el = len(epitope)\n",
    "    tl = len(tcr)\n",
    "    # print(f\"len(tcr): {len(tcr)}, len(epitope): {len(epitope)} \")\n",
    "\n",
    "\n",
    "    # Calculate the distances\n",
    "    epitope_dists = [\n",
    "        levenshtein_distance(epitope, e) / el for e in train_epitopes\n",
    "    ]\n",
    "    tcr_dists = [levenshtein_distance(tcr, t) / tl for t in train_tcrs]\n",
    "\n",
    "    # Get the closest k (neighbours) -> Sorted by distances; Get their indices\n",
    "    knns = np.argsort(np.array(epitope_dists) + np.array(tcr_dists))[:k]\n",
    "    \n",
    "    # Get the labels of the above indices\n",
    "    _knn_labels = np.array(train_labels)[knns]\n",
    "    # We only 2 classes so we can just take a mean\n",
    "    predictions.append(np.mean(_knn_labels))\n",
    "    knn_labels.append(_knn_labels)\n",
    "\n",
    "    # break # 1 loop test\n"
   ]
  },
  {
   "cell_type": "code",
   "execution_count": 16,
   "metadata": {},
   "outputs": [
    {
     "data": {
      "text/plain": [
       "array([13317, 18977, 10171, 14833, 12393,  2379, 19072, 12516, 19002,\n",
       "       18276, 12377, 17782, 13707,   943, 10437, 17971, 12380, 14503,\n",
       "       12808, 19003,  1955,  2346, 18121,  2422,  1811])"
      ]
     },
     "execution_count": 16,
     "metadata": {},
     "output_type": "execute_result"
    }
   ],
   "source": [
    "knns"
   ]
  },
  {
   "cell_type": "code",
   "execution_count": 17,
   "metadata": {},
   "outputs": [
    {
     "data": {
      "text/plain": [
       "array([0, 0, 0, 0, 0, 1, 0, 0, 0, 0, 0, 0, 0, 1, 0, 0, 0, 0, 0, 0, 1, 1,\n",
       "       0, 1, 1])"
      ]
     },
     "execution_count": 17,
     "metadata": {},
     "output_type": "execute_result"
    }
   ],
   "source": [
    "_knn_labels"
   ]
  },
  {
   "cell_type": "code",
   "execution_count": 18,
   "metadata": {},
   "outputs": [
    {
     "data": {
      "text/plain": [
       "0.24"
      ]
     },
     "execution_count": 18,
     "metadata": {},
     "output_type": "execute_result"
    }
   ],
   "source": [
    "np.mean(_knn_labels)"
   ]
  },
  {
   "cell_type": "code",
   "execution_count": 19,
   "metadata": {},
   "outputs": [
    {
     "name": "stdout",
     "output_type": "stream",
     "text": [
      "[0.68, 0.64, 0.12] 2120\n"
     ]
    }
   ],
   "source": [
    "print(predictions[:3], len(predictions))"
   ]
  },
  {
   "cell_type": "code",
   "execution_count": 20,
   "metadata": {},
   "outputs": [
    {
     "name": "stdout",
     "output_type": "stream",
     "text": [
      "0 25\n",
      "1 23\n",
      "2 21\n",
      "3 19\n",
      "4 17\n",
      "5 15\n",
      "6 13\n",
      "7 11\n",
      "8 9\n",
      "9 7\n",
      "10 5\n",
      "11 3\n",
      "12 1\n"
     ]
    }
   ],
   "source": [
    "for idx, _k in enumerate(range(k, 0, -2)):\n",
    "    print(idx, _k)"
   ]
  },
  {
   "cell_type": "code",
   "execution_count": 21,
   "metadata": {},
   "outputs": [
    {
     "name": "stdout",
     "output_type": "stream",
     "text": [
      "idx: 0, k: 25\n",
      "_predictions:[0.68, 0.64, 0.12, 0.36, 0.32, 0.48, 0.64, 0.56, 0.56, 0.64], len(_predictions):2120\n",
      "{'ROC-AUC': 0.8055469028123888, 'Precision-Recall': 0.7816468510297911, 'MCC': 0.48171205678560797, 'Sensitivity': 0.7160377358490566, 'Specificity': 0.7650943396226415, 'Accuracy': 0.7405660377358491, 'Balanced Accuracy': 0.7405660377358491, 'Precision': 0.7529761904761905, 'theta': 0.56}\n",
      "------------------------------------------------------------\n",
      "idx: 1, k: 23\n",
      "_predictions:[0.6521739130434783, 0.6521739130434783, 0.13043478260869565, 0.391304347826087, 0.34782608695652173, 0.4782608695652174, 0.6521739130434783, 0.5217391304347826, 0.5652173913043478, 0.6521739130434783], len(_predictions):2120\n",
      "{'ROC-AUC': 0.8055469028123888, 'Precision-Recall': 0.7816468510297911, 'MCC': 0.48171205678560797, 'Sensitivity': 0.7160377358490566, 'Specificity': 0.7650943396226415, 'Accuracy': 0.7405660377358491, 'Balanced Accuracy': 0.7405660377358491, 'Precision': 0.7529761904761905, 'theta': 0.56}\n",
      "------------------------------------------------------------\n",
      "idx: 2, k: 21\n",
      "_predictions:[0.6666666666666666, 0.6666666666666666, 0.14285714285714285, 0.42857142857142855, 0.3333333333333333, 0.5238095238095238, 0.6666666666666666, 0.5714285714285714, 0.5238095238095238, 0.6190476190476191], len(_predictions):2120\n",
      "{'ROC-AUC': 0.8055469028123888, 'Precision-Recall': 0.7816468510297911, 'MCC': 0.48171205678560797, 'Sensitivity': 0.7160377358490566, 'Specificity': 0.7650943396226415, 'Accuracy': 0.7405660377358491, 'Balanced Accuracy': 0.7405660377358491, 'Precision': 0.7529761904761905, 'theta': 0.56}\n",
      "------------------------------------------------------------\n",
      "idx: 3, k: 19\n",
      "_predictions:[0.6842105263157895, 0.6842105263157895, 0.15789473684210525, 0.42105263157894735, 0.3157894736842105, 0.5263157894736842, 0.7368421052631579, 0.5789473684210527, 0.5263157894736842, 0.631578947368421], len(_predictions):2120\n",
      "{'ROC-AUC': 0.8055469028123888, 'Precision-Recall': 0.7816468510297911, 'MCC': 0.48171205678560797, 'Sensitivity': 0.7160377358490566, 'Specificity': 0.7650943396226415, 'Accuracy': 0.7405660377358491, 'Balanced Accuracy': 0.7405660377358491, 'Precision': 0.7529761904761905, 'theta': 0.56}\n",
      "------------------------------------------------------------\n",
      "idx: 4, k: 17\n",
      "_predictions:[0.6470588235294118, 0.6470588235294118, 0.17647058823529413, 0.4117647058823529, 0.35294117647058826, 0.5882352941176471, 0.7647058823529411, 0.5882352941176471, 0.5882352941176471, 0.5882352941176471], len(_predictions):2120\n",
      "{'ROC-AUC': 0.8055469028123888, 'Precision-Recall': 0.7816468510297911, 'MCC': 0.48171205678560797, 'Sensitivity': 0.7160377358490566, 'Specificity': 0.7650943396226415, 'Accuracy': 0.7405660377358491, 'Balanced Accuracy': 0.7405660377358491, 'Precision': 0.7529761904761905, 'theta': 0.56}\n",
      "------------------------------------------------------------\n",
      "idx: 5, k: 15\n",
      "_predictions:[0.6, 0.6, 0.2, 0.4, 0.3333333333333333, 0.5333333333333333, 0.8666666666666667, 0.6, 0.5333333333333333, 0.5333333333333333], len(_predictions):2120\n",
      "{'ROC-AUC': 0.8055469028123888, 'Precision-Recall': 0.7816468510297911, 'MCC': 0.48171205678560797, 'Sensitivity': 0.7160377358490566, 'Specificity': 0.7650943396226415, 'Accuracy': 0.7405660377358491, 'Balanced Accuracy': 0.7405660377358491, 'Precision': 0.7529761904761905, 'theta': 0.56}\n",
      "------------------------------------------------------------\n",
      "idx: 6, k: 13\n",
      "_predictions:[0.6153846153846154, 0.6153846153846154, 0.23076923076923078, 0.46153846153846156, 0.38461538461538464, 0.5384615384615384, 0.8461538461538461, 0.5384615384615384, 0.46153846153846156, 0.5384615384615384], len(_predictions):2120\n",
      "{'ROC-AUC': 0.8055469028123888, 'Precision-Recall': 0.7816468510297911, 'MCC': 0.48171205678560797, 'Sensitivity': 0.7160377358490566, 'Specificity': 0.7650943396226415, 'Accuracy': 0.7405660377358491, 'Balanced Accuracy': 0.7405660377358491, 'Precision': 0.7529761904761905, 'theta': 0.56}\n",
      "------------------------------------------------------------\n",
      "idx: 7, k: 11\n",
      "_predictions:[0.7272727272727273, 0.7272727272727273, 0.18181818181818182, 0.45454545454545453, 0.36363636363636365, 0.6363636363636364, 0.8181818181818182, 0.5454545454545454, 0.5454545454545454, 0.6363636363636364], len(_predictions):2120\n",
      "{'ROC-AUC': 0.8055469028123888, 'Precision-Recall': 0.7816468510297911, 'MCC': 0.48171205678560797, 'Sensitivity': 0.7160377358490566, 'Specificity': 0.7650943396226415, 'Accuracy': 0.7405660377358491, 'Balanced Accuracy': 0.7405660377358491, 'Precision': 0.7529761904761905, 'theta': 0.56}\n",
      "------------------------------------------------------------\n",
      "idx: 8, k: 9\n",
      "_predictions:[0.8888888888888888, 0.7777777777777778, 0.0, 0.5555555555555556, 0.3333333333333333, 0.6666666666666666, 1.0, 0.4444444444444444, 0.5555555555555556, 0.7777777777777778], len(_predictions):2120\n",
      "{'ROC-AUC': 0.8055469028123888, 'Precision-Recall': 0.7816468510297911, 'MCC': 0.48171205678560797, 'Sensitivity': 0.7160377358490566, 'Specificity': 0.7650943396226415, 'Accuracy': 0.7405660377358491, 'Balanced Accuracy': 0.7405660377358491, 'Precision': 0.7529761904761905, 'theta': 0.56}\n",
      "------------------------------------------------------------\n",
      "idx: 9, k: 7\n",
      "_predictions:[0.8571428571428571, 0.8571428571428571, 0.0, 0.5714285714285714, 0.2857142857142857, 0.7142857142857143, 1.0, 0.42857142857142855, 0.5714285714285714, 0.7142857142857143], len(_predictions):2120\n",
      "{'ROC-AUC': 0.8055469028123888, 'Precision-Recall': 0.7816468510297911, 'MCC': 0.48171205678560797, 'Sensitivity': 0.7160377358490566, 'Specificity': 0.7650943396226415, 'Accuracy': 0.7405660377358491, 'Balanced Accuracy': 0.7405660377358491, 'Precision': 0.7529761904761905, 'theta': 0.56}\n",
      "------------------------------------------------------------\n",
      "idx: 10, k: 5\n",
      "_predictions:[1.0, 1.0, 0.0, 0.6, 0.2, 0.6, 1.0, 0.4, 0.6, 1.0], len(_predictions):2120\n",
      "{'ROC-AUC': 0.8055469028123888, 'Precision-Recall': 0.7816468510297911, 'MCC': 0.48171205678560797, 'Sensitivity': 0.7160377358490566, 'Specificity': 0.7650943396226415, 'Accuracy': 0.7405660377358491, 'Balanced Accuracy': 0.7405660377358491, 'Precision': 0.7529761904761905, 'theta': 0.56}\n",
      "------------------------------------------------------------\n",
      "idx: 11, k: 3\n",
      "_predictions:[1.0, 1.0, 0.0, 1.0, 0.0, 0.6666666666666666, 1.0, 0.0, 0.6666666666666666, 1.0], len(_predictions):2120\n",
      "{'ROC-AUC': 0.8055469028123888, 'Precision-Recall': 0.7816468510297911, 'MCC': 0.48171205678560797, 'Sensitivity': 0.7160377358490566, 'Specificity': 0.7650943396226415, 'Accuracy': 0.7405660377358491, 'Balanced Accuracy': 0.7405660377358491, 'Precision': 0.7529761904761905, 'theta': 0.56}\n",
      "------------------------------------------------------------\n",
      "idx: 12, k: 1\n",
      "_predictions:[1.0, 1.0, 0.0, 1.0, 0.0, 1.0, 1.0, 0.0, 1.0, 1.0], len(_predictions):2120\n",
      "{'ROC-AUC': 0.8055469028123888, 'Precision-Recall': 0.7816468510297911, 'MCC': 0.48171205678560797, 'Sensitivity': 0.7160377358490566, 'Specificity': 0.7650943396226415, 'Accuracy': 0.7405660377358491, 'Balanced Accuracy': 0.7405660377358491, 'Precision': 0.7529761904761905, 'theta': 0.56}\n",
      "------------------------------------------------------------\n"
     ]
    }
   ],
   "source": [
    "for idx, _k in enumerate(range(k, 0, -2)):\n",
    "\n",
    "    # Evaluation process\n",
    "    print(f\"idx: {idx}, k: {_k}\")\n",
    "\n",
    "    # Overwrite predictions to match _k instead of k\n",
    "    _predictions = [\n",
    "        np.mean(sample_knns[:_k]) for sample_knns in knn_labels\n",
    "    ]\n",
    "    print(f\"_predictions:{_predictions[:10]}, len(_predictions):{len(_predictions)}\")\n",
    "\n",
    "    # Compute metrics\n",
    "    #   Continuous metrics\n",
    "    fpr, tpr, thresholds = roc_curve(test_labels, predictions)\n",
    "    roc_auc = auc(fpr, tpr)\n",
    "    precision_recall_score = average_precision_score(\n",
    "        test_labels, predictions\n",
    "    )\n",
    "\n",
    "    #   Metrics for a truly binary classifier\n",
    "    theta = cutoff_youdens_j(fpr, tpr, thresholds)\n",
    "    binary_predictions = [p > theta for p in predictions]\n",
    "    accuracy = accuracy_score(test_labels, binary_predictions)\n",
    "    balanced_accuracy = balanced_accuracy_score(\n",
    "        test_labels, binary_predictions\n",
    "    )\n",
    "\n",
    "    precision = precision_score(test_labels, binary_predictions)\n",
    "    mcc = matthews_corrcoef(test_labels, binary_predictions)\n",
    "    tn, fp, fn, tp = confusion_matrix(test_labels,\n",
    "                                        binary_predictions).ravel()\n",
    "    sensitivity = tp / (tp + fn)\n",
    "    specificity = tn / (tn + fp)\n",
    "    if _k != 1:\n",
    "        # Needed to handle NaN case.\n",
    "        assert max(\n",
    "            0, precision == (tp / (tp + fp))\n",
    "        ), 'Metrics dont match.'\n",
    "\n",
    "    # Create and save json\n",
    "    results = {\n",
    "        'ROC-AUC': roc_auc,\n",
    "        'Precision-Recall': precision_recall_score,\n",
    "        'MCC': mcc,\n",
    "        'Sensitivity': sensitivity,\n",
    "        'Specificity': specificity,\n",
    "        'Accuracy': accuracy,\n",
    "        'Balanced Accuracy': balanced_accuracy,\n",
    "        'Precision': precision,\n",
    "        'theta': theta,\n",
    "    }\n",
    "    print(results)\n",
    "    print('-' * 60)\n",
    "    "
   ]
  },
  {
   "attachments": {},
   "cell_type": "markdown",
   "metadata": {},
   "source": [
    "### Run the code as one module"
   ]
  },
  {
   "cell_type": "code",
   "execution_count": null,
   "metadata": {},
   "outputs": [],
   "source": [
    "# Set a root directory\n",
    "import os\n",
    "import sys \n",
    "os.chdir(\"/Users/evgenii/Documents/Workspace/TCR/TITAN_dev/\")\n",
    "sys.path[0] = \"/Users/evgenii/Documents/Workspace/TCR/TITAN_dev/\""
   ]
  },
  {
   "cell_type": "code",
   "execution_count": 23,
   "metadata": {},
   "outputs": [
    {
     "name": "stdout",
     "output_type": "stream",
     "text": [
      "{'ROC-AUC': 0.8055469028123888, 'Precision-Recall': 0.7816468510297911, 'MCC': 0.48171205678560797, 'Sensitivity': 0.7160377358490566, 'Specificity': 0.7650943396226415, 'Accuracy': 0.7405660377358491, 'Balanced Accuracy': 0.7405660377358491, 'Precision': 0.7529761904761905, 'theta': 0.56}\n",
      "{'ROC-AUC': 0.8050191349234603, 'Precision-Recall': 0.7815739452603171, 'MCC': 0.4764530929270796, 'Sensitivity': 0.7056603773584905, 'Specificity': 0.769811320754717, 'Accuracy': 0.7377358490566037, 'Balanced Accuracy': 0.7377358490566037, 'Precision': 0.7540322580645161, 'theta': 0.5652173913043478}\n",
      "{'ROC-AUC': 0.8058851014595941, 'Precision-Recall': 0.782592552694159, 'MCC': 0.47078103229699536, 'Sensitivity': 0.7028301886792453, 'Specificity': 0.7669811320754717, 'Accuracy': 0.7349056603773585, 'Balanced Accuracy': 0.7349056603773585, 'Precision': 0.751008064516129, 'theta': 0.5714285714285714}\n",
      "{'ROC-AUC': 0.8042937878248486, 'Precision-Recall': 0.7794334396286572, 'MCC': 0.4849755889195668, 'Sensitivity': 0.7509433962264151, 'Specificity': 0.7339622641509433, 'Accuracy': 0.7424528301886792, 'Balanced Accuracy': 0.7424528301886792, 'Precision': 0.738404452690167, 'theta': 0.5263157894736842}\n",
      "{'ROC-AUC': 0.8018667675329298, 'Precision-Recall': 0.7774359655248967, 'MCC': 0.4764509270357092, 'Sensitivity': 0.7443396226415094, 'Specificity': 0.7320754716981132, 'Accuracy': 0.7382075471698113, 'Balanced Accuracy': 0.7382075471698113, 'Precision': 0.7353215284249767, 'theta': 0.5294117647058824}\n",
      "{'ROC-AUC': 0.8002069241723033, 'Precision-Recall': 0.7777739153289006, 'MCC': 0.4641914317767277, 'Sensitivity': 0.7254716981132076, 'Specificity': 0.7386792452830189, 'Accuracy': 0.7320754716981132, 'Balanced Accuracy': 0.7320754716981133, 'Precision': 0.7351816443594646, 'theta': 0.5333333333333333}\n",
      "{'ROC-AUC': 0.79750622997508, 'Precision-Recall': 0.7721324886199977, 'MCC': 0.4625936336302336, 'Sensitivity': 0.7122641509433962, 'Specificity': 0.75, 'Accuracy': 0.7311320754716981, 'Balanced Accuracy': 0.7311320754716981, 'Precision': 0.7401960784313726, 'theta': 0.5384615384615384}\n",
      "{'ROC-AUC': 0.7985755606977573, 'Precision-Recall': 0.7714599218392002, 'MCC': 0.4611166570712572, 'Sensitivity': 0.7018867924528301, 'Specificity': 0.7584905660377359, 'Accuracy': 0.730188679245283, 'Balanced Accuracy': 0.730188679245283, 'Precision': 0.744, 'theta': 0.5454545454545454}\n",
      "{'ROC-AUC': 0.7934838910644357, 'Precision-Recall': 0.7630000875590561, 'MCC': 0.46116533279188143, 'Sensitivity': 0.6754716981132075, 'Specificity': 0.7830188679245284, 'Accuracy': 0.7292452830188679, 'Balanced Accuracy': 0.7292452830188679, 'Precision': 0.7568710359408034, 'theta': 0.5555555555555556}\n",
      "{'ROC-AUC': 0.7908655215379139, 'Precision-Recall': 0.7558025413012439, 'MCC': 0.4328958361708616, 'Sensitivity': 0.6339622641509434, 'Specificity': 0.7933962264150943, 'Accuracy': 0.7136792452830188, 'Balanced Accuracy': 0.7136792452830188, 'Precision': 0.7542087542087542, 'theta': 0.5714285714285714}\n",
      "{'ROC-AUC': 0.7800752046991812, 'Precision-Recall': 0.7348043679903832, 'MCC': 0.4027780386821483, 'Sensitivity': 0.5632075471698114, 'Specificity': 0.8254716981132075, 'Accuracy': 0.6943396226415094, 'Balanced Accuracy': 0.6943396226415095, 'Precision': 0.7634271099744245, 'theta': 0.6}\n",
      "{'ROC-AUC': 0.7607155571377715, 'Precision-Recall': 0.709643623254727, 'MCC': 0.3812491294760373, 'Sensitivity': 0.45754716981132076, 'Specificity': 0.8867924528301887, 'Accuracy': 0.6721698113207547, 'Balanced Accuracy': 0.6721698113207547, 'Precision': 0.8016528925619835, 'theta': 0.6666666666666666}\n",
      "{'ROC-AUC': 0.6872641509433962, 'Precision-Recall': 0.6256492451205045, 'MCC': 0.0, 'Sensitivity': 0.0, 'Specificity': 1.0, 'Accuracy': 0.5, 'Balanced Accuracy': 0.5, 'Precision': 0.0, 'theta': 1.0}\n"
     ]
    },
    {
     "name": "stderr",
     "output_type": "stream",
     "text": [
      "/opt/anaconda3/envs/TITAN/lib/python3.10/site-packages/sklearn/metrics/_classification.py:1344: UndefinedMetricWarning: Precision is ill-defined and being set to 0.0 due to no predicted samples. Use `zero_division` parameter to control this behavior.\n",
      "  _warn_prf(average, modifier, msg_start, len(result))\n"
     ]
    },
    {
     "name": "stdout",
     "output_type": "stream",
     "text": [
      "{'ROC-AUC': 0.7940739587041652, 'Precision-Recall': 0.7722397931166046, 'MCC': 0.4818902651479187, 'Sensitivity': 0.6981132075471698, 'Specificity': 0.7820754716981132, 'Accuracy': 0.7400943396226415, 'Balanced Accuracy': 0.7400943396226415, 'Precision': 0.7621009268795057, 'theta': 0.56}\n",
      "{'ROC-AUC': 0.7931906372374511, 'Precision-Recall': 0.7697141295980755, 'MCC': 0.47620982980236365, 'Sensitivity': 0.6952830188679245, 'Specificity': 0.779245283018868, 'Accuracy': 0.7372641509433963, 'Balanced Accuracy': 0.7372641509433963, 'Precision': 0.7590113285272915, 'theta': 0.5652173913043478}\n",
      "{'ROC-AUC': 0.7927296190815236, 'Precision-Recall': 0.7681473418494411, 'MCC': 0.4651111047875085, 'Sensitivity': 0.7283018867924528, 'Specificity': 0.7367924528301887, 'Accuracy': 0.7325471698113207, 'Balanced Accuracy': 0.7325471698113207, 'Precision': 0.7345385347288297, 'theta': 0.5238095238095238}\n",
      "{'ROC-AUC': 0.7949038803844785, 'Precision-Recall': 0.7696780773976458, 'MCC': 0.4754852400715172, 'Sensitivity': 0.7339622641509433, 'Specificity': 0.7415094339622641, 'Accuracy': 0.7377358490566037, 'Balanced Accuracy': 0.7377358490566037, 'Precision': 0.7395437262357415, 'theta': 0.5263157894736842}\n",
      "{'ROC-AUC': 0.794685386258455, 'Precision-Recall': 0.7684517320002724, 'MCC': 0.4774273307262662, 'Sensitivity': 0.730188679245283, 'Specificity': 0.7471698113207547, 'Accuracy': 0.7386792452830189, 'Balanced Accuracy': 0.7386792452830189, 'Precision': 0.7428023032629558, 'theta': 0.5294117647058824}\n",
      "{'ROC-AUC': 0.7927905838376647, 'Precision-Recall': 0.7663988147827943, 'MCC': 0.4681654229716562, 'Sensitivity': 0.7179245283018868, 'Specificity': 0.75, 'Accuracy': 0.7339622641509433, 'Balanced Accuracy': 0.7339622641509433, 'Precision': 0.7417153996101364, 'theta': 0.5333333333333333}\n",
      "{'ROC-AUC': 0.7936783552865789, 'Precision-Recall': 0.7616998030972253, 'MCC': 0.46230124276716533, 'Sensitivity': 0.6981132075471698, 'Specificity': 0.7632075471698113, 'Accuracy': 0.7306603773584905, 'Balanced Accuracy': 0.7306603773584905, 'Precision': 0.7467204843592331, 'theta': 0.5384615384615384}\n",
      "{'ROC-AUC': 0.789757030971876, 'Precision-Recall': 0.7569292142237747, 'MCC': 0.45181820957370544, 'Sensitivity': 0.680188679245283, 'Specificity': 0.769811320754717, 'Accuracy': 0.725, 'Balanced Accuracy': 0.7250000000000001, 'Precision': 0.7471502590673575, 'theta': 0.5454545454545454}\n",
      "{'ROC-AUC': 0.7861836952652189, 'Precision-Recall': 0.7494641658012209, 'MCC': 0.43021681187721833, 'Sensitivity': 0.6386792452830189, 'Specificity': 0.7867924528301887, 'Accuracy': 0.7127358490566038, 'Balanced Accuracy': 0.7127358490566038, 'Precision': 0.7497231450719822, 'theta': 0.5555555555555556}\n",
      "{'ROC-AUC': 0.7821199715201139, 'Precision-Recall': 0.7375917012991201, 'MCC': 0.4157884522857649, 'Sensitivity': 0.6047169811320755, 'Specificity': 0.8028301886792453, 'Accuracy': 0.7037735849056603, 'Balanced Accuracy': 0.7037735849056603, 'Precision': 0.7541176470588236, 'theta': 0.5714285714285714}\n",
      "{'ROC-AUC': 0.7771773762904949, 'Precision-Recall': 0.7281569072514367, 'MCC': 0.3994232403964525, 'Sensitivity': 0.5452830188679245, 'Specificity': 0.8367924528301887, 'Accuracy': 0.6910377358490566, 'Balanced Accuracy': 0.6910377358490566, 'Precision': 0.7696404793608522, 'theta': 0.6}\n",
      "{'ROC-AUC': 0.7639707191171236, 'Precision-Recall': 0.7070267234851427, 'MCC': 0.35533925697777746, 'Sensitivity': 0.42641509433962266, 'Specificity': 0.8886792452830189, 'Accuracy': 0.6575471698113208, 'Balanced Accuracy': 0.6575471698113208, 'Precision': 0.7929824561403509, 'theta': 0.6666666666666666}\n",
      "{'ROC-AUC': 0.6924528301886792, 'Precision-Recall': 0.6319826786266625, 'MCC': 0.0, 'Sensitivity': 0.0, 'Specificity': 1.0, 'Accuracy': 0.5, 'Balanced Accuracy': 0.5, 'Precision': 0.0, 'theta': 1.0}\n"
     ]
    },
    {
     "name": "stderr",
     "output_type": "stream",
     "text": [
      "/opt/anaconda3/envs/TITAN/lib/python3.10/site-packages/sklearn/metrics/_classification.py:1344: UndefinedMetricWarning: Precision is ill-defined and being set to 0.0 due to no predicted samples. Use `zero_division` parameter to control this behavior.\n",
      "  _warn_prf(average, modifier, msg_start, len(result))\n"
     ]
    },
    {
     "name": "stdout",
     "output_type": "stream",
     "text": [
      "{'ROC-AUC': 0.7809166963332147, 'Precision-Recall': 0.7529884658043158, 'MCC': 0.4402337392805151, 'Sensitivity': 0.6773584905660377, 'Specificity': 0.7613207547169811, 'Accuracy': 0.7193396226415094, 'Balanced Accuracy': 0.7193396226415094, 'Precision': 0.7394438722966015, 'theta': 0.56}\n",
      "{'ROC-AUC': 0.7832320220719117, 'Precision-Recall': 0.7539520534943001, 'MCC': 0.43696847416528184, 'Sensitivity': 0.6273584905660378, 'Specificity': 0.8028301886792453, 'Accuracy': 0.7150943396226415, 'Balanced Accuracy': 0.7150943396226415, 'Precision': 0.7608695652173914, 'theta': 0.6086956521739131}\n",
      "{'ROC-AUC': 0.7845478818084729, 'Precision-Recall': 0.7534734882400537, 'MCC': 0.4548757052258808, 'Sensitivity': 0.7141509433962264, 'Specificity': 0.7405660377358491, 'Accuracy': 0.7273584905660377, 'Balanced Accuracy': 0.7273584905660377, 'Precision': 0.7335271317829457, 'theta': 0.5238095238095238}\n",
      "{'ROC-AUC': 0.7860315058739764, 'Precision-Recall': 0.7536076500909562, 'MCC': 0.4374719126877426, 'Sensitivity': 0.6537735849056604, 'Specificity': 0.780188679245283, 'Accuracy': 0.7169811320754716, 'Balanced Accuracy': 0.7169811320754718, 'Precision': 0.7483801295896328, 'theta': 0.5789473684210527}\n",
      "{'ROC-AUC': 0.7874092203631186, 'Precision-Recall': 0.7572350348690934, 'MCC': 0.4553528766473966, 'Sensitivity': 0.7009433962264151, 'Specificity': 0.7537735849056604, 'Accuracy': 0.7273584905660377, 'Balanced Accuracy': 0.7273584905660377, 'Precision': 0.7400398406374502, 'theta': 0.5294117647058824}\n",
      "{'ROC-AUC': 0.7868231577073691, 'Precision-Recall': 0.7557231638848825, 'MCC': 0.4611668940584879, 'Sensitivity': 0.7009433962264151, 'Specificity': 0.7594339622641509, 'Accuracy': 0.730188679245283, 'Balanced Accuracy': 0.730188679245283, 'Precision': 0.7444889779559118, 'theta': 0.5333333333333333}\n",
      "{'ROC-AUC': 0.7872543609825562, 'Precision-Recall': 0.7573548705451155, 'MCC': 0.4539986092530572, 'Sensitivity': 0.690566037735849, 'Specificity': 0.7622641509433963, 'Accuracy': 0.7264150943396226, 'Balanced Accuracy': 0.7264150943396226, 'Precision': 0.7439024390243902, 'theta': 0.5384615384615384}\n",
      "{'ROC-AUC': 0.7861974902100392, 'Precision-Recall': 0.7551821847147412, 'MCC': 0.42691807182220154, 'Sensitivity': 0.659433962264151, 'Specificity': 0.7650943396226415, 'Accuracy': 0.7122641509433962, 'Balanced Accuracy': 0.7122641509433962, 'Precision': 0.7373417721518988, 'theta': 0.5454545454545454}\n",
      "{'ROC-AUC': 0.7849199003203986, 'Precision-Recall': 0.7478888785486553, 'MCC': 0.4265962502402016, 'Sensitivity': 0.6433962264150943, 'Specificity': 0.779245283018868, 'Accuracy': 0.7113207547169811, 'Balanced Accuracy': 0.7113207547169811, 'Precision': 0.7445414847161572, 'theta': 0.5555555555555556}\n",
      "{'ROC-AUC': 0.7850382698469206, 'Precision-Recall': 0.7448237866100524, 'MCC': 0.4186899493711786, 'Sensitivity': 0.6122641509433963, 'Specificity': 0.7990566037735849, 'Accuracy': 0.7056603773584905, 'Balanced Accuracy': 0.7056603773584906, 'Precision': 0.7529002320185615, 'theta': 0.5714285714285714}\n",
      "{'ROC-AUC': 0.78062967248131, 'Precision-Recall': 0.7360260286002843, 'MCC': 0.3934447376823168, 'Sensitivity': 0.5471698113207547, 'Specificity': 0.8301886792452831, 'Accuracy': 0.6886792452830188, 'Balanced Accuracy': 0.6886792452830188, 'Precision': 0.7631578947368421, 'theta': 0.6}\n",
      "{'ROC-AUC': 0.7678889284442862, 'Precision-Recall': 0.7117131510642347, 'MCC': 0.36139613978863916, 'Sensitivity': 0.4330188679245283, 'Specificity': 0.8886792452830189, 'Accuracy': 0.6608490566037736, 'Balanced Accuracy': 0.6608490566037736, 'Precision': 0.7954939341421143, 'theta': 0.6666666666666666}\n"
     ]
    },
    {
     "name": "stderr",
     "output_type": "stream",
     "text": [
      "/opt/anaconda3/envs/TITAN/lib/python3.10/site-packages/sklearn/metrics/_classification.py:1344: UndefinedMetricWarning: Precision is ill-defined and being set to 0.0 due to no predicted samples. Use `zero_division` parameter to control this behavior.\n",
      "  _warn_prf(average, modifier, msg_start, len(result))\n"
     ]
    },
    {
     "name": "stdout",
     "output_type": "stream",
     "text": [
      "{'ROC-AUC': 0.7080188679245284, 'Precision-Recall': 0.6452207191171235, 'MCC': 0.0, 'Sensitivity': 0.0, 'Specificity': 1.0, 'Accuracy': 0.5, 'Balanced Accuracy': 0.5, 'Precision': 0.0, 'theta': 1.0}\n",
      "{'ROC-AUC': 0.790809896760413, 'Precision-Recall': 0.7617863574177803, 'MCC': 0.46038473388357865, 'Sensitivity': 0.7273584905660377, 'Specificity': 0.7330188679245283, 'Accuracy': 0.730188679245283, 'Balanced Accuracy': 0.730188679245283, 'Precision': 0.7314990512333965, 'theta': 0.52}\n",
      "{'ROC-AUC': 0.7916945532217871, 'Precision-Recall': 0.76203281811268, 'MCC': 0.4623576059106929, 'Sensitivity': 0.6839622641509434, 'Specificity': 0.7764150943396226, 'Accuracy': 0.730188679245283, 'Balanced Accuracy': 0.730188679245283, 'Precision': 0.7536382536382537, 'theta': 0.5652173913043478}\n",
      "{'ROC-AUC': 0.7939573691705233, 'Precision-Recall': 0.7650821954792484, 'MCC': 0.46602620384993787, 'Sensitivity': 0.7641509433962265, 'Specificity': 0.7009433962264151, 'Accuracy': 0.7325471698113207, 'Balanced Accuracy': 0.7325471698113208, 'Precision': 0.7187222715173026, 'theta': 0.47619047619047616}\n",
      "{'ROC-AUC': 0.7941602883588467, 'Precision-Recall': 0.7642144695118929, 'MCC': 0.45674119059219337, 'Sensitivity': 0.7160377358490566, 'Specificity': 0.7405660377358491, 'Accuracy': 0.7283018867924528, 'Balanced Accuracy': 0.7283018867924529, 'Precision': 0.7340425531914894, 'theta': 0.5263157894736842}\n",
      "{'ROC-AUC': 0.7948976504093983, 'Precision-Recall': 0.7651504014169032, 'MCC': 0.43837365899280223, 'Sensitivity': 0.6462264150943396, 'Specificity': 0.7877358490566038, 'Accuracy': 0.7169811320754716, 'Balanced Accuracy': 0.7169811320754718, 'Precision': 0.7527472527472527, 'theta': 0.5882352941176471}\n",
      "{'ROC-AUC': 0.7932992168031328, 'Precision-Recall': 0.7629766102266863, 'MCC': 0.4628111441935991, 'Sensitivity': 0.7707547169811321, 'Specificity': 0.690566037735849, 'Accuracy': 0.7306603773584905, 'Balanced Accuracy': 0.7306603773584905, 'Precision': 0.7135371179039302, 'theta': 0.4666666666666667}\n",
      "{'ROC-AUC': 0.7934046813812744, 'Precision-Recall': 0.7618972234010858, 'MCC': 0.4643099182596877, 'Sensitivity': 0.7660377358490567, 'Specificity': 0.6971698113207547, 'Accuracy': 0.7316037735849057, 'Balanced Accuracy': 0.7316037735849057, 'Precision': 0.7166813768755517, 'theta': 0.46153846153846156}\n",
      "{'ROC-AUC': 0.7930420078319685, 'Precision-Recall': 0.7603281306782315, 'MCC': 0.4675079794819385, 'Sensitivity': 0.6933962264150944, 'Specificity': 0.7726415094339623, 'Accuracy': 0.7330188679245283, 'Balanced Accuracy': 0.7330188679245283, 'Precision': 0.7530737704918032, 'theta': 0.5454545454545454}\n",
      "{'ROC-AUC': 0.7896235315058739, 'Precision-Recall': 0.7513620687098421, 'MCC': 0.453302381842559, 'Sensitivity': 0.6745283018867925, 'Specificity': 0.7764150943396226, 'Accuracy': 0.7254716981132076, 'Balanced Accuracy': 0.7254716981132076, 'Precision': 0.7510504201680672, 'theta': 0.5555555555555556}\n",
      "{'ROC-AUC': 0.7874528301886792, 'Precision-Recall': 0.7414647672958785, 'MCC': 0.4241538348968776, 'Sensitivity': 0.6235849056603774, 'Specificity': 0.7943396226415095, 'Accuracy': 0.7089622641509434, 'Balanced Accuracy': 0.7089622641509434, 'Precision': 0.7519908987485779, 'theta': 0.5714285714285714}\n",
      "{'ROC-AUC': 0.7756634923460306, 'Precision-Recall': 0.7270097807939118, 'MCC': 0.39429559785001067, 'Sensitivity': 0.5575471698113208, 'Specificity': 0.8226415094339623, 'Accuracy': 0.6900943396226416, 'Balanced Accuracy': 0.6900943396226416, 'Precision': 0.7586649550706034, 'theta': 0.6}\n",
      "{'ROC-AUC': 0.7517613029547882, 'Precision-Recall': 0.695623364078705, 'MCC': 0.34520717077640906, 'Sensitivity': 0.439622641509434, 'Specificity': 0.8716981132075472, 'Accuracy': 0.6556603773584906, 'Balanced Accuracy': 0.6556603773584906, 'Precision': 0.7740863787375415, 'theta': 0.6666666666666666}\n"
     ]
    },
    {
     "name": "stderr",
     "output_type": "stream",
     "text": [
      "/opt/anaconda3/envs/TITAN/lib/python3.10/site-packages/sklearn/metrics/_classification.py:1344: UndefinedMetricWarning: Precision is ill-defined and being set to 0.0 due to no predicted samples. Use `zero_division` parameter to control this behavior.\n",
      "  _warn_prf(average, modifier, msg_start, len(result))\n"
     ]
    },
    {
     "name": "stdout",
     "output_type": "stream",
     "text": [
      "{'ROC-AUC': 0.6811320754716981, 'Precision-Recall': 0.6211799096465586, 'MCC': 0.0, 'Sensitivity': 0.0, 'Specificity': 1.0, 'Accuracy': 0.5, 'Balanced Accuracy': 0.5, 'Precision': 0.0, 'theta': 1.0}\n",
      "{'ROC-AUC': 0.7847686009255963, 'Precision-Recall': 0.7676013349233801, 'MCC': 0.4401406447987116, 'Sensitivity': 0.6405660377358491, 'Specificity': 0.7943396226415095, 'Accuracy': 0.7174528301886792, 'Balanced Accuracy': 0.7174528301886793, 'Precision': 0.7569676700111483, 'theta': 0.6}\n",
      "{'ROC-AUC': 0.7851944642221431, 'Precision-Recall': 0.7677040297478601, 'MCC': 0.43770432613352145, 'Sensitivity': 0.629245283018868, 'Specificity': 0.8018867924528302, 'Accuracy': 0.715566037735849, 'Balanced Accuracy': 0.715566037735849, 'Precision': 0.7605473204104903, 'theta': 0.6086956521739131}\n",
      "{'ROC-AUC': 0.786815592737629, 'Precision-Recall': 0.7684717889001338, 'MCC': 0.4529635810383948, 'Sensitivity': 0.6783018867924528, 'Specificity': 0.7726415094339623, 'Accuracy': 0.7254716981132076, 'Balanced Accuracy': 0.7254716981132076, 'Precision': 0.7489583333333333, 'theta': 0.5714285714285714}\n",
      "{'ROC-AUC': 0.7866140085439659, 'Precision-Recall': 0.7682229572820559, 'MCC': 0.4501613289040173, 'Sensitivity': 0.6660377358490566, 'Specificity': 0.7811320754716982, 'Accuracy': 0.7235849056603774, 'Balanced Accuracy': 0.7235849056603774, 'Precision': 0.7526652452025586, 'theta': 0.5789473684210527}\n",
      "{'ROC-AUC': 0.786622908508366, 'Precision-Recall': 0.7665719473263827, 'MCC': 0.4539435021132244, 'Sensitivity': 0.7132075471698113, 'Specificity': 0.7405660377358491, 'Accuracy': 0.7268867924528302, 'Balanced Accuracy': 0.7268867924528302, 'Precision': 0.7332686711930165, 'theta': 0.5294117647058824}\n",
      "{'ROC-AUC': 0.7860315058739765, 'Precision-Recall': 0.7644416515790535, 'MCC': 0.46067347203467907, 'Sensitivity': 0.7122641509433962, 'Specificity': 0.7481132075471698, 'Accuracy': 0.730188679245283, 'Balanced Accuracy': 0.730188679245283, 'Precision': 0.738747553816047, 'theta': 0.5333333333333333}\n",
      "{'ROC-AUC': 0.782563189747241, 'Precision-Recall': 0.7610446452530598, 'MCC': 0.4300355585454631, 'Sensitivity': 0.5962264150943396, 'Specificity': 0.8226415094339623, 'Accuracy': 0.7094339622641509, 'Balanced Accuracy': 0.709433962264151, 'Precision': 0.7707317073170732, 'theta': 0.6153846153846154}\n",
      "{'ROC-AUC': 0.7780602527589888, 'Precision-Recall': 0.7533572523646169, 'MCC': 0.4082482904638631, 'Sensitivity': 0.5584905660377358, 'Specificity': 0.8339622641509434, 'Accuracy': 0.6962264150943396, 'Balanced Accuracy': 0.6962264150943396, 'Precision': 0.7708333333333334, 'theta': 0.6363636363636364}\n",
      "{'ROC-AUC': 0.7763661445354219, 'Precision-Recall': 0.749726859573238, 'MCC': 0.4406642544545654, 'Sensitivity': 0.6613207547169812, 'Specificity': 0.7764150943396226, 'Accuracy': 0.7188679245283018, 'Balanced Accuracy': 0.7188679245283018, 'Precision': 0.7473347547974414, 'theta': 0.5555555555555556}\n",
      "{'ROC-AUC': 0.7707106621573514, 'Precision-Recall': 0.733873690442471, 'MCC': 0.4141123777398091, 'Sensitivity': 0.6150943396226415, 'Specificity': 0.7924528301886793, 'Accuracy': 0.7037735849056603, 'Balanced Accuracy': 0.7037735849056603, 'Precision': 0.7477064220183486, 'theta': 0.5714285714285714}\n",
      "{'ROC-AUC': 0.7624652901388395, 'Precision-Recall': 0.718057616118281, 'MCC': 0.4006235233410204, 'Sensitivity': 0.5537735849056604, 'Specificity': 0.8311320754716981, 'Accuracy': 0.6924528301886792, 'Balanced Accuracy': 0.6924528301886792, 'Precision': 0.7663185378590078, 'theta': 0.6}\n",
      "{'ROC-AUC': 0.7487780348878604, 'Precision-Recall': 0.698264503035695, 'MCC': 0.3581199268189332, 'Sensitivity': 0.4349056603773585, 'Specificity': 0.8849056603773585, 'Accuracy': 0.6599056603773585, 'Balanced Accuracy': 0.6599056603773585, 'Precision': 0.79073756432247, 'theta': 0.6666666666666666}\n",
      "{'ROC-AUC': 0.6919811320754716, 'Precision-Recall': 0.6304726140318739, 'MCC': 0.0, 'Sensitivity': 0.0, 'Specificity': 1.0, 'Accuracy': 0.5, 'Balanced Accuracy': 0.5, 'Precision': 0.0, 'theta': 1.0}\n"
     ]
    },
    {
     "name": "stderr",
     "output_type": "stream",
     "text": [
      "/opt/anaconda3/envs/TITAN/lib/python3.10/site-packages/sklearn/metrics/_classification.py:1344: UndefinedMetricWarning: Precision is ill-defined and being set to 0.0 due to no predicted samples. Use `zero_division` parameter to control this behavior.\n",
      "  _warn_prf(average, modifier, msg_start, len(result))\n"
     ]
    },
    {
     "name": "stdout",
     "output_type": "stream",
     "text": [
      "{'ROC-AUC': 0.7800596297614809, 'Precision-Recall': 0.7599405049047145, 'MCC': 0.45119199701826107, 'Sensitivity': 0.6886792452830188, 'Specificity': 0.7613207547169811, 'Accuracy': 0.725, 'Balanced Accuracy': 0.725, 'Precision': 0.7426246185147508, 'theta': 0.56}\n",
      "{'ROC-AUC': 0.7807934318262726, 'Precision-Recall': 0.7609007996942942, 'MCC': 0.44479504120751234, 'Sensitivity': 0.6820754716981132, 'Specificity': 0.7613207547169811, 'Accuracy': 0.7216981132075472, 'Balanced Accuracy': 0.7216981132075472, 'Precision': 0.7407786885245902, 'theta': 0.5652173913043478}\n",
      "{'ROC-AUC': 0.7833842114631542, 'Precision-Recall': 0.7625238428514355, 'MCC': 0.4424223492618599, 'Sensitivity': 0.6745283018867925, 'Specificity': 0.7660377358490567, 'Accuracy': 0.7202830188679246, 'Balanced Accuracy': 0.7202830188679246, 'Precision': 0.7424714434060229, 'theta': 0.5714285714285714}\n",
      "{'ROC-AUC': 0.7813536845852617, 'Precision-Recall': 0.7570416739592597, 'MCC': 0.43117524888227593, 'Sensitivity': 0.7084905660377359, 'Specificity': 0.7226415094339622, 'Accuracy': 0.715566037735849, 'Balanced Accuracy': 0.715566037735849, 'Precision': 0.7186602870813397, 'theta': 0.5263157894736842}\n",
      "{'ROC-AUC': 0.7818414026343895, 'Precision-Recall': 0.7551664248572982, 'MCC': 0.4369139859494487, 'Sensitivity': 0.7066037735849057, 'Specificity': 0.730188679245283, 'Accuracy': 0.7183962264150944, 'Balanced Accuracy': 0.7183962264150943, 'Precision': 0.7236714975845411, 'theta': 0.5294117647058824}\n",
      "{'ROC-AUC': 0.7809064613741545, 'Precision-Recall': 0.7524491436070381, 'MCC': 0.4230816254513427, 'Sensitivity': 0.6311320754716981, 'Specificity': 0.7867924528301887, 'Accuracy': 0.7089622641509434, 'Balanced Accuracy': 0.7089622641509434, 'Precision': 0.7474860335195531, 'theta': 0.6}\n",
      "{'ROC-AUC': 0.7799902100391598, 'Precision-Recall': 0.7530204703301911, 'MCC': 0.41327607040293707, 'Sensitivity': 0.5952830188679246, 'Specificity': 0.8084905660377358, 'Accuracy': 0.7018867924528301, 'Balanced Accuracy': 0.7018867924528303, 'Precision': 0.7565947242206235, 'theta': 0.6153846153846154}\n",
      "{'ROC-AUC': 0.7790459238163048, 'Precision-Recall': 0.7488611372400746, 'MCC': 0.42580429172869605, 'Sensitivity': 0.6735849056603773, 'Specificity': 0.7509433962264151, 'Accuracy': 0.7122641509433962, 'Balanced Accuracy': 0.7122641509433962, 'Precision': 0.7300613496932515, 'theta': 0.5454545454545454}\n",
      "{'ROC-AUC': 0.7781212175151299, 'Precision-Recall': 0.7477990399277982, 'MCC': 0.4272744603727009, 'Sensitivity': 0.6462264150943396, 'Specificity': 0.7773584905660378, 'Accuracy': 0.7117924528301887, 'Balanced Accuracy': 0.7117924528301887, 'Precision': 0.743756786102063, 'theta': 0.5555555555555556}\n",
      "{'ROC-AUC': 0.7681924172303312, 'Precision-Recall': 0.7338414189462448, 'MCC': 0.41145159395721126, 'Sensitivity': 0.6122641509433963, 'Specificity': 0.7924528301886793, 'Accuracy': 0.7023584905660377, 'Balanced Accuracy': 0.7023584905660378, 'Precision': 0.7468354430379747, 'theta': 0.5714285714285714}\n",
      "{'ROC-AUC': 0.764688501245995, 'Precision-Recall': 0.7228804349780635, 'MCC': 0.39538055682214607, 'Sensitivity': 0.5575471698113208, 'Specificity': 0.8235849056603773, 'Accuracy': 0.690566037735849, 'Balanced Accuracy': 0.6905660377358491, 'Precision': 0.7596401028277635, 'theta': 0.6}\n",
      "{'ROC-AUC': 0.7514044143823424, 'Precision-Recall': 0.7050027269122936, 'MCC': 0.3828661348611082, 'Sensitivity': 0.45660377358490567, 'Specificity': 0.8886792452830189, 'Accuracy': 0.6726415094339623, 'Balanced Accuracy': 0.6726415094339623, 'Precision': 0.8039867109634552, 'theta': 0.6666666666666666}\n",
      "{'ROC-AUC': 0.6726415094339622, 'Precision-Recall': 0.6136980478074621, 'MCC': 0.0, 'Sensitivity': 0.0, 'Specificity': 1.0, 'Accuracy': 0.5, 'Balanced Accuracy': 0.5, 'Precision': 0.0, 'theta': 1.0}\n"
     ]
    },
    {
     "name": "stderr",
     "output_type": "stream",
     "text": [
      "/opt/anaconda3/envs/TITAN/lib/python3.10/site-packages/sklearn/metrics/_classification.py:1344: UndefinedMetricWarning: Precision is ill-defined and being set to 0.0 due to no predicted samples. Use `zero_division` parameter to control this behavior.\n",
      "  _warn_prf(average, modifier, msg_start, len(result))\n"
     ]
    },
    {
     "name": "stdout",
     "output_type": "stream",
     "text": [
      "{'ROC-AUC': 0.77437344250623, 'Precision-Recall': 0.7596654177230521, 'MCC': 0.4230816254513427, 'Sensitivity': 0.6311320754716981, 'Specificity': 0.7867924528301887, 'Accuracy': 0.7089622641509434, 'Balanced Accuracy': 0.7089622641509434, 'Precision': 0.7474860335195531, 'theta': 0.6}\n",
      "{'ROC-AUC': 0.7739262192951227, 'Precision-Recall': 0.7569547442071354, 'MCC': 0.42281296195455004, 'Sensitivity': 0.6188679245283019, 'Specificity': 0.7971698113207547, 'Accuracy': 0.7080188679245283, 'Balanced Accuracy': 0.7080188679245283, 'Precision': 0.7531572904707233, 'theta': 0.6086956521739131}\n",
      "{'ROC-AUC': 0.7746787112851548, 'Precision-Recall': 0.7557740669462937, 'MCC': 0.4164405069522656, 'Sensitivity': 0.6547169811320754, 'Specificity': 0.7594339622641509, 'Accuracy': 0.7070754716981132, 'Balanced Accuracy': 0.7070754716981131, 'Precision': 0.7312961011591148, 'theta': 0.5714285714285714}\n",
      "{'ROC-AUC': 0.7739564791740834, 'Precision-Recall': 0.7556073233599884, 'MCC': 0.41579188970913045, 'Sensitivity': 0.6509433962264151, 'Specificity': 0.7622641509433963, 'Accuracy': 0.7066037735849057, 'Balanced Accuracy': 0.7066037735849057, 'Precision': 0.732484076433121, 'theta': 0.5789473684210527}\n",
      "{'ROC-AUC': 0.7721471164115344, 'Precision-Recall': 0.7518084702574097, 'MCC': 0.4120486444128719, 'Sensitivity': 0.6386792452830189, 'Specificity': 0.769811320754717, 'Accuracy': 0.7042452830188679, 'Balanced Accuracy': 0.7042452830188679, 'Precision': 0.7350705754614549, 'theta': 0.5882352941176471}\n",
      "{'ROC-AUC': 0.7723268956924172, 'Precision-Recall': 0.7542219660139555, 'MCC': 0.4037170424872429, 'Sensitivity': 0.6160377358490566, 'Specificity': 0.7820754716981132, 'Accuracy': 0.6990566037735849, 'Balanced Accuracy': 0.6990566037735849, 'Precision': 0.7386877828054299, 'theta': 0.6}\n",
      "{'ROC-AUC': 0.7728261836952651, 'Precision-Recall': 0.7506538795931984, 'MCC': 0.41504523640507945, 'Sensitivity': 0.5915094339622642, 'Specificity': 0.8132075471698114, 'Accuracy': 0.7023584905660377, 'Balanced Accuracy': 0.7023584905660378, 'Precision': 0.76, 'theta': 0.6153846153846154}\n",
      "{'ROC-AUC': 0.7701553043787825, 'Precision-Recall': 0.7440656266078398, 'MCC': 0.4069799091290129, 'Sensitivity': 0.5547169811320755, 'Specificity': 0.8358490566037736, 'Accuracy': 0.6952830188679245, 'Balanced Accuracy': 0.6952830188679245, 'Precision': 0.7716535433070866, 'theta': 0.6363636363636364}\n",
      "{'ROC-AUC': 0.7743449626201495, 'Precision-Recall': 0.7447751128913885, 'MCC': 0.384579596791729, 'Sensitivity': 0.5018867924528302, 'Specificity': 0.8575471698113207, 'Accuracy': 0.6797169811320755, 'Balanced Accuracy': 0.6797169811320755, 'Precision': 0.7789165446559297, 'theta': 0.6666666666666666}\n",
      "{'ROC-AUC': 0.7693609825560698, 'Precision-Recall': 0.7347418773514216, 'MCC': 0.4153108980989242, 'Sensitivity': 0.6075471698113207, 'Specificity': 0.8, 'Accuracy': 0.7037735849056603, 'Balanced Accuracy': 0.7037735849056603, 'Precision': 0.7523364485981309, 'theta': 0.5714285714285714}\n",
      "{'ROC-AUC': 0.7546698113207547, 'Precision-Recall': 0.7102651482694705, 'MCC': 0.3766142229190561, 'Sensitivity': 0.539622641509434, 'Specificity': 0.8216981132075472, 'Accuracy': 0.6806603773584906, 'Balanced Accuracy': 0.6806603773584905, 'Precision': 0.7516425755584757, 'theta': 0.6}\n",
      "{'ROC-AUC': 0.7420425418298326, 'Precision-Recall': 0.6929660636410552, 'MCC': 0.35351893815412505, 'Sensitivity': 0.4339622641509434, 'Specificity': 0.8820754716981132, 'Accuracy': 0.6580188679245284, 'Balanced Accuracy': 0.6580188679245282, 'Precision': 0.7863247863247863, 'theta': 0.6666666666666666}\n",
      "{'ROC-AUC': 0.6721698113207547, 'Precision-Recall': 0.6143158046415433, 'MCC': 0.0, 'Sensitivity': 0.0, 'Specificity': 1.0, 'Accuracy': 0.5, 'Balanced Accuracy': 0.5, 'Precision': 0.0, 'theta': 1.0}\n"
     ]
    },
    {
     "name": "stderr",
     "output_type": "stream",
     "text": [
      "/opt/anaconda3/envs/TITAN/lib/python3.10/site-packages/sklearn/metrics/_classification.py:1344: UndefinedMetricWarning: Precision is ill-defined and being set to 0.0 due to no predicted samples. Use `zero_division` parameter to control this behavior.\n",
      "  _warn_prf(average, modifier, msg_start, len(result))\n"
     ]
    },
    {
     "name": "stdout",
     "output_type": "stream",
     "text": [
      "{'ROC-AUC': 0.7949510501957994, 'Precision-Recall': 0.7781776696032308, 'MCC': 0.46492397447618683, 'Sensitivity': 0.6886792452830188, 'Specificity': 0.7745283018867924, 'Accuracy': 0.7316037735849057, 'Balanced Accuracy': 0.7316037735849057, 'Precision': 0.7533539731682146, 'theta': 0.56}\n",
      "{'ROC-AUC': 0.7954040583837665, 'Precision-Recall': 0.7776367471767944, 'MCC': 0.46765208227215627, 'Sensitivity': 0.6915094339622642, 'Specificity': 0.7745283018867924, 'Accuracy': 0.7330188679245283, 'Balanced Accuracy': 0.7330188679245283, 'Precision': 0.7541152263374485, 'theta': 0.5652173913043478}\n",
      "{'ROC-AUC': 0.7936587753648986, 'Precision-Recall': 0.7740579842001399, 'MCC': 0.46894874279362025, 'Sensitivity': 0.6877358490566038, 'Specificity': 0.779245283018868, 'Accuracy': 0.7334905660377359, 'Balanced Accuracy': 0.7334905660377359, 'Precision': 0.7570093457943925, 'theta': 0.5714285714285714}\n",
      "{'ROC-AUC': 0.7917070131719474, 'Precision-Recall': 0.7703603142911348, 'MCC': 0.4595144840398043, 'Sensitivity': 0.6632075471698113, 'Specificity': 0.7924528301886793, 'Accuracy': 0.7278301886792453, 'Balanced Accuracy': 0.7278301886792453, 'Precision': 0.761646803900325, 'theta': 0.5789473684210527}\n",
      "{'ROC-AUC': 0.7896048415806337, 'Precision-Recall': 0.7674934081166934, 'MCC': 0.45711259249691316, 'Sensitivity': 0.7047169811320755, 'Specificity': 0.7518867924528302, 'Accuracy': 0.7283018867924528, 'Balanced Accuracy': 0.7283018867924529, 'Precision': 0.7396039603960396, 'theta': 0.5294117647058824}\n",
      "{'ROC-AUC': 0.7862259700961196, 'Precision-Recall': 0.7581688150276074, 'MCC': 0.4430240905724949, 'Sensitivity': 0.6283018867924528, 'Specificity': 0.8075471698113208, 'Accuracy': 0.7179245283018868, 'Balanced Accuracy': 0.7179245283018868, 'Precision': 0.7655172413793103, 'theta': 0.6}\n",
      "{'ROC-AUC': 0.7848179957280172, 'Precision-Recall': 0.7571779651821715, 'MCC': 0.41785594458025005, 'Sensitivity': 0.5933962264150944, 'Specificity': 0.8141509433962264, 'Accuracy': 0.7037735849056603, 'Balanced Accuracy': 0.7037735849056603, 'Precision': 0.761501210653753, 'theta': 0.6153846153846154}\n",
      "{'ROC-AUC': 0.783309896760413, 'Precision-Recall': 0.7487958724002385, 'MCC': 0.43287404984315175, 'Sensitivity': 0.6707547169811321, 'Specificity': 0.7603773584905661, 'Accuracy': 0.715566037735849, 'Balanced Accuracy': 0.715566037735849, 'Precision': 0.7367875647668394, 'theta': 0.5454545454545454}\n",
      "{'ROC-AUC': 0.7766438234247063, 'Precision-Recall': 0.7398564623680084, 'MCC': 0.413547613760664, 'Sensitivity': 0.6433962264150943, 'Specificity': 0.7669811320754717, 'Accuracy': 0.7051886792452831, 'Balanced Accuracy': 0.7051886792452831, 'Precision': 0.7341227125941873, 'theta': 0.5555555555555556}\n",
      "{'ROC-AUC': 0.7753875934496262, 'Precision-Recall': 0.7358172573177129, 'MCC': 0.42492457629565855, 'Sensitivity': 0.6122641509433963, 'Specificity': 0.8047169811320755, 'Accuracy': 0.7084905660377359, 'Balanced Accuracy': 0.7084905660377359, 'Precision': 0.758177570093458, 'theta': 0.5714285714285714}\n",
      "{'ROC-AUC': 0.7644490922036311, 'Precision-Recall': 0.7194750268309249, 'MCC': 0.3855686421168494, 'Sensitivity': 0.5481132075471699, 'Specificity': 0.8226415094339623, 'Accuracy': 0.685377358490566, 'Balanced Accuracy': 0.685377358490566, 'Precision': 0.7555266579973993, 'theta': 0.6}\n",
      "{'ROC-AUC': 0.750753381986472, 'Precision-Recall': 0.6935408825651399, 'MCC': 0.33471947105402333, 'Sensitivity': 0.4216981132075472, 'Specificity': 0.8764150943396226, 'Accuracy': 0.6490566037735849, 'Balanced Accuracy': 0.6490566037735849, 'Precision': 0.773356401384083, 'theta': 0.6666666666666666}\n",
      "{'ROC-AUC': 0.6792452830188679, 'Precision-Recall': 0.6203042665306817, 'MCC': 0.0, 'Sensitivity': 0.0, 'Specificity': 1.0, 'Accuracy': 0.5, 'Balanced Accuracy': 0.5, 'Precision': 0.0, 'theta': 1.0}\n"
     ]
    },
    {
     "name": "stderr",
     "output_type": "stream",
     "text": [
      "/opt/anaconda3/envs/TITAN/lib/python3.10/site-packages/sklearn/metrics/_classification.py:1344: UndefinedMetricWarning: Precision is ill-defined and being set to 0.0 due to no predicted samples. Use `zero_division` parameter to control this behavior.\n",
      "  _warn_prf(average, modifier, msg_start, len(result))\n"
     ]
    },
    {
     "name": "stdout",
     "output_type": "stream",
     "text": [
      "{'ROC-AUC': 0.7923629405482377, 'Precision-Recall': 0.7758016071467845, 'MCC': 0.45821012925741, 'Sensitivity': 0.7556603773584906, 'Specificity': 0.7018867924528301, 'Accuracy': 0.7287735849056604, 'Balanced Accuracy': 0.7287735849056604, 'Precision': 0.7170993733213966, 'theta': 0.48}\n",
      "{'ROC-AUC': 0.791432449270203, 'Precision-Recall': 0.7747889567983233, 'MCC': 0.45014605273999153, 'Sensitivity': 0.7122641509433962, 'Specificity': 0.7377358490566037, 'Accuracy': 0.725, 'Balanced Accuracy': 0.725, 'Precision': 0.7308809293320426, 'theta': 0.5217391304347826}\n",
      "{'ROC-AUC': 0.7933837664649341, 'Precision-Recall': 0.7771106795651871, 'MCC': 0.4551092343104317, 'Sensitivity': 0.7066037735849057, 'Specificity': 0.7481132075471698, 'Accuracy': 0.7273584905660377, 'Balanced Accuracy': 0.7273584905660377, 'Precision': 0.7372047244094488, 'theta': 0.5238095238095238}\n",
      "{'ROC-AUC': 0.7914244393022429, 'Precision-Recall': 0.7733317891126079, 'MCC': 0.44809797511956073, 'Sensitivity': 0.6575471698113208, 'Specificity': 0.7867924528301887, 'Accuracy': 0.7221698113207548, 'Balanced Accuracy': 0.7221698113207548, 'Precision': 0.7551462621885157, 'theta': 0.5789473684210527}\n",
      "{'ROC-AUC': 0.7911400854396582, 'Precision-Recall': 0.7734872266121536, 'MCC': 0.4536067810411356, 'Sensitivity': 0.6971698113207547, 'Specificity': 0.7556603773584906, 'Accuracy': 0.7264150943396226, 'Balanced Accuracy': 0.7264150943396226, 'Precision': 0.7404809619238477, 'theta': 0.5294117647058824}\n",
      "{'ROC-AUC': 0.793310786756853, 'Precision-Recall': 0.7756228962738314, 'MCC': 0.46138450260855174, 'Sensitivity': 0.6971698113207547, 'Specificity': 0.7632075471698113, 'Accuracy': 0.730188679245283, 'Balanced Accuracy': 0.730188679245283, 'Precision': 0.7464646464646465, 'theta': 0.5333333333333333}\n",
      "{'ROC-AUC': 0.7942230331078676, 'Precision-Recall': 0.7732843016329447, 'MCC': 0.4435432247798502, 'Sensitivity': 0.5981132075471698, 'Specificity': 0.8330188679245283, 'Accuracy': 0.715566037735849, 'Balanced Accuracy': 0.715566037735849, 'Precision': 0.781750924784217, 'theta': 0.6153846153846154}\n",
      "{'ROC-AUC': 0.7928742435030259, 'Precision-Recall': 0.7673959029950873, 'MCC': 0.4165667445914536, 'Sensitivity': 0.5518867924528302, 'Specificity': 0.8462264150943396, 'Accuracy': 0.6990566037735849, 'Balanced Accuracy': 0.6990566037735849, 'Precision': 0.7820855614973262, 'theta': 0.6363636363636364}\n",
      "{'ROC-AUC': 0.7924243503025987, 'Precision-Recall': 0.7652226659806314, 'MCC': 0.4279214135672846, 'Sensitivity': 0.6330188679245283, 'Specificity': 0.789622641509434, 'Accuracy': 0.7113207547169811, 'Balanced Accuracy': 0.7113207547169811, 'Precision': 0.7505592841163311, 'theta': 0.5555555555555556}\n",
      "{'ROC-AUC': 0.7917083481666074, 'Precision-Recall': 0.7617672319713534, 'MCC': 0.41980248736378367, 'Sensitivity': 0.6056603773584905, 'Specificity': 0.8056603773584906, 'Accuracy': 0.7056603773584905, 'Balanced Accuracy': 0.7056603773584906, 'Precision': 0.7570754716981132, 'theta': 0.5714285714285714}\n",
      "{'ROC-AUC': 0.7861329654681382, 'Precision-Recall': 0.7417858899220326, 'MCC': 0.419757608131938, 'Sensitivity': 0.5566037735849056, 'Specificity': 0.8452830188679246, 'Accuracy': 0.7009433962264151, 'Balanced Accuracy': 0.7009433962264151, 'Precision': 0.7824933687002652, 'theta': 0.6}\n",
      "{'ROC-AUC': 0.7661512103951584, 'Precision-Recall': 0.7178571117986237, 'MCC': 0.39279286386729045, 'Sensitivity': 0.4537735849056604, 'Specificity': 0.8981132075471698, 'Accuracy': 0.6759433962264151, 'Balanced Accuracy': 0.6759433962264151, 'Precision': 0.8166383701188455, 'theta': 0.6666666666666666}\n",
      "{'ROC-AUC': 0.6962264150943396, 'Precision-Recall': 0.6341053542311403, 'MCC': 0.0, 'Sensitivity': 0.0, 'Specificity': 1.0, 'Accuracy': 0.5, 'Balanced Accuracy': 0.5, 'Precision': 0.0, 'theta': 1.0}\n"
     ]
    },
    {
     "name": "stderr",
     "output_type": "stream",
     "text": [
      "/opt/anaconda3/envs/TITAN/lib/python3.10/site-packages/sklearn/metrics/_classification.py:1344: UndefinedMetricWarning: Precision is ill-defined and being set to 0.0 due to no predicted samples. Use `zero_division` parameter to control this behavior.\n",
      "  _warn_prf(average, modifier, msg_start, len(result))\n"
     ]
    },
    {
     "name": "stdout",
     "output_type": "stream",
     "text": [
      "{'ROC-AUC': 0.7858430058110659, 'Precision-Recall': 0.7613065368638008, 'MCC': 0.45105601517062927, 'Sensitivity': 0.6987724268177526, 'Specificity': 0.7516525023607177, 'Accuracy': 0.7252124645892352, 'Balanced Accuracy': 0.7252124645892352, 'Precision': 0.7377866400797607, 'theta': 0.56}\n",
      "{'ROC-AUC': 0.7868162724112133, 'Precision-Recall': 0.761437836054941, 'MCC': 0.4617596678771364, 'Sensitivity': 0.732766761095373, 'Specificity': 0.728989612842304, 'Accuracy': 0.7308781869688386, 'Balanced Accuracy': 0.7308781869688386, 'Precision': 0.7300094073377235, 'theta': 0.5217391304347826}\n",
      "{'ROC-AUC': 0.7885265109261771, 'Precision-Recall': 0.7635891059683201, 'MCC': 0.45831196224819065, 'Sensitivity': 0.6912181303116147, 'Specificity': 0.7658168083097262, 'Accuracy': 0.7285174693106704, 'Balanced Accuracy': 0.7285174693106704, 'Precision': 0.746938775510204, 'theta': 0.5714285714285714}\n",
      "{'ROC-AUC': 0.7909625753802337, 'Precision-Recall': 0.7673959363910506, 'MCC': 0.45798004242684587, 'Sensitivity': 0.7299338999055713, 'Specificity': 0.7280453257790368, 'Accuracy': 0.728989612842304, 'Balanced Accuracy': 0.7289896128423041, 'Precision': 0.7285579641847314, 'theta': 0.5263157894736842}\n",
      "{'ROC-AUC': 0.7925283620498251, 'Precision-Recall': 0.7713848032573197, 'MCC': 0.45326284245306553, 'Sensitivity': 0.724268177525968, 'Specificity': 0.728989612842304, 'Accuracy': 0.726628895184136, 'Balanced Accuracy': 0.726628895184136, 'Precision': 0.7277039848197343, 'theta': 0.5294117647058824}\n",
      "{'ROC-AUC': 0.792529699566912, 'Precision-Recall': 0.7706356285155876, 'MCC': 0.45249510572744744, 'Sensitivity': 0.7119924457034938, 'Specificity': 0.7403210576015109, 'Accuracy': 0.7261567516525024, 'Balanced Accuracy': 0.7261567516525024, 'Precision': 0.7327502429543246, 'theta': 0.5333333333333333}\n",
      "{'ROC-AUC': 0.7876718375077242, 'Precision-Recall': 0.7634210910430381, 'MCC': 0.4461813688608882, 'Sensitivity': 0.6997167138810199, 'Specificity': 0.7459867799811143, 'Accuracy': 0.722851746931067, 'Balanced Accuracy': 0.7228517469310671, 'Precision': 0.7336633663366336, 'theta': 0.5384615384615384}\n",
      "{'ROC-AUC': 0.7839579983967628, 'Precision-Recall': 0.7566415399095452, 'MCC': 0.44298006463865974, 'Sensitivity': 0.6864966949952785, 'Specificity': 0.7554296506137866, 'Accuracy': 0.7209631728045326, 'Balanced Accuracy': 0.7209631728045326, 'Precision': 0.7373225152129818, 'theta': 0.5454545454545454}\n",
      "{'ROC-AUC': 0.79007089732238, 'Precision-Recall': 0.7616814826318259, 'MCC': 0.43932857106240053, 'Sensitivity': 0.6694995278564684, 'Specificity': 0.7677053824362606, 'Accuracy': 0.7186024551463644, 'Balanced Accuracy': 0.7186024551463646, 'Precision': 0.7424083769633508, 'theta': 0.5555555555555556}\n",
      "{'ROC-AUC': 0.7838398510540973, 'Precision-Recall': 0.7523751649867276, 'MCC': 0.4295557324261078, 'Sensitivity': 0.6317280453257791, 'Specificity': 0.7922568460812087, 'Accuracy': 0.7119924457034938, 'Balanced Accuracy': 0.7119924457034938, 'Precision': 0.7525309336332958, 'theta': 0.5714285714285714}\n",
      "{'ROC-AUC': 0.7822366139060759, 'Precision-Recall': 0.7450590989266704, 'MCC': 0.41312116501685847, 'Sensitivity': 0.5769593956562795, 'Specificity': 0.8234183191690274, 'Accuracy': 0.7001888574126535, 'Balanced Accuracy': 0.7001888574126535, 'Precision': 0.7656641604010025, 'theta': 0.6}\n",
      "{'ROC-AUC': 0.7574524222880281, 'Precision-Recall': 0.7079227931813342, 'MCC': 0.3780743163413363, 'Sensitivity': 0.4542020774315392, 'Specificity': 0.886685552407932, 'Accuracy': 0.6704438149197356, 'Balanced Accuracy': 0.6704438149197356, 'Precision': 0.800332778702163, 'theta': 0.6666666666666666}\n",
      "{'ROC-AUC': 0.6992445703493863, 'Precision-Recall': 0.637565068878412, 'MCC': 0.0, 'Sensitivity': 0.0, 'Specificity': 1.0, 'Accuracy': 0.5, 'Balanced Accuracy': 0.5, 'Precision': 0.0, 'theta': 1.0}\n"
     ]
    },
    {
     "name": "stderr",
     "output_type": "stream",
     "text": [
      "/opt/anaconda3/envs/TITAN/lib/python3.10/site-packages/sklearn/metrics/_classification.py:1344: UndefinedMetricWarning: Precision is ill-defined and being set to 0.0 due to no predicted samples. Use `zero_division` parameter to control this behavior.\n",
      "  _warn_prf(average, modifier, msg_start, len(result))\n"
     ]
    },
    {
     "data": {
      "image/png": "[encoded data removed]",
      "text/plain": [
       "<Figure size 2000x500 with 2 Axes>"
      ]
     },
     "metadata": {},
     "output_type": "display_data"
    }
   ],
   "source": [
    "import argparse\n",
    "import json\n",
    "import logging\n",
    "import os\n",
    "import sys\n",
    "\n",
    "import numpy as np\n",
    "import pandas as pd\n",
    "from pytoda.files import read_smi\n",
    "from sklearn.metrics import (\n",
    "    accuracy_score, auc, average_precision_score, balanced_accuracy_score,\n",
    "    confusion_matrix, matthews_corrcoef, precision_score, roc_curve\n",
    ")\n",
    "\n",
    "# Arguments to pass\n",
    "logger = logging.getLogger('knn_prediction')\n",
    "logging.getLogger('matplotlib.font_manager').disabled = True\n",
    "\n",
    "\n",
    "\n",
    "import sys\n",
    "from source.models import knn\n",
    "from source.utils.plot_knn import plot_roc_prc\n",
    "from source.utils.utils import cutoff_youdens_j\n",
    "\n",
    "logger = logging.getLogger('knn_prediction')\n",
    "logging.getLogger('matplotlib.font_manager').disabled = True\n",
    "\n",
    "data_path = \"data/preprocessed/tcr_split/\"\n",
    "train_name = \"train.csv\"\n",
    "test_name = \"test.csv\"\n",
    "num_folds = 10\n",
    "\n",
    "results_path = \"results/knn_model/\"\n",
    "k = 25\n",
    "test_epitope_fp = '.'\n",
    "test_tcr_fp = '.'\n",
    "\n",
    "# All the available datapoints from datasets\n",
    "epitope_fp = \"data/raw/epitopes.csv\"\n",
    "tcr_fp = \"data/raw/tcr.csv\"\n",
    "\n",
    "# In the main function \n",
    "\n",
    "# Function read a .smi (or .csv file with tab-separated values) in a pd.DataFrame.\n",
    "train_epi = read_smi(epitope_fp, names=['data'])\n",
    "train_tcr = read_smi(tcr_fp, names=['data'])\n",
    "\n",
    "test_epi = train_epi if test_epitope_fp == '.' else read_smi(\n",
    "    test_epitope_fp, names=['data']\n",
    ")\n",
    "test_tcr = train_tcr if test_tcr_fp == '.' else read_smi(\n",
    "    test_tcr_fp, names=['data']\n",
    ")\n",
    "\n",
    "# Create right amount of empty lists\n",
    "all_results = np.empty((np.ceil(k / 2).astype(int), 0)).tolist()\n",
    "\n",
    "# Original code\n",
    "for fold in range(num_folds):\n",
    "    train_data = pd.read_csv(\n",
    "        os.path.join(data_path, f'fold{fold}', train_name), index_col=0\n",
    "    )\n",
    "    test_data = pd.read_csv(\n",
    "        os.path.join(data_path, f'fold{fold}', test_name), index_col=0\n",
    "    )\n",
    "    train_epitopes = train_epi.loc[train_data['ligand_name']]['data']\n",
    "    train_tcrs = train_tcr.loc[train_data['sequence_id']]['data']\n",
    "    test_epitopes = test_epi.loc[test_data['ligand_name']]['data']\n",
    "    test_tcrs = test_tcr.loc[test_data['sequence_id']]['data']\n",
    "    train_labels = train_data['label']\n",
    "    test_labels = test_data['label']\n",
    "    # logger.info(f'Fold {fold}: Data loaded')\n",
    "    # Classify data\n",
    "    predictions, knn_labels = knn(\n",
    "        train_epitopes,\n",
    "        train_tcrs,\n",
    "        train_labels,\n",
    "        test_epitopes,\n",
    "        test_tcrs,\n",
    "        k=k,\n",
    "        return_knn_labels=True,\n",
    "    )\n",
    "    logger.info(f'Fold {fold}: Predictions done')\n",
    "\n",
    "    for idx, _k in enumerate(range(k, 0, -2)):\n",
    "        # Overwrite predictions to match _k instead of k\n",
    "        predictions = [\n",
    "            np.mean(sample_knns[:_k]) for sample_knns in knn_labels\n",
    "        ]\n",
    "        # Compute metrics\n",
    "        #   Continuous metrics\n",
    "        fpr, tpr, thresholds = roc_curve(test_labels, predictions)\n",
    "        roc_auc = auc(fpr, tpr)\n",
    "        precision_recall_score = average_precision_score(\n",
    "            test_labels, predictions\n",
    "        )\n",
    "        #   Metrics for a truly binary classifier\n",
    "        theta = cutoff_youdens_j(fpr, tpr, thresholds)\n",
    "        binary_predictions = [p > theta for p in predictions]\n",
    "        accuracy = accuracy_score(test_labels, binary_predictions)\n",
    "        balanced_accuracy = balanced_accuracy_score(\n",
    "            test_labels, binary_predictions\n",
    "        )\n",
    "        precision = precision_score(test_labels, binary_predictions)\n",
    "        mcc = matthews_corrcoef(test_labels, binary_predictions)\n",
    "        tn, fp, fn, tp = confusion_matrix(test_labels,\n",
    "                                            binary_predictions).ravel()\n",
    "        sensitivity = tp / (tp + fn)\n",
    "        specificity = tn / (tn + fp)\n",
    "        if _k != 1:\n",
    "            # Needed to handle NaN case.\n",
    "            assert max(\n",
    "                0, precision == (tp / (tp + fp))\n",
    "            ), 'Metrics dont match.'\n",
    "        # Create and save json\n",
    "        results = {\n",
    "            'ROC-AUC': roc_auc,\n",
    "            'Precision-Recall': precision_recall_score,\n",
    "            'MCC': mcc,\n",
    "            'Sensitivity': sensitivity,\n",
    "            'Specificity': specificity,\n",
    "            'Accuracy': accuracy,\n",
    "            'Balanced Accuracy': balanced_accuracy,\n",
    "            'Precision': precision,\n",
    "            'theta': theta,\n",
    "        }\n",
    "        print(results)\n",
    "\n",
    "        # Write data\n",
    "        os.makedirs(os.path.join(results_path, f'k={_k}'), exist_ok=True)\n",
    "        with open(\n",
    "            os.path.join(\n",
    "                results_path, f'k={_k}', f'fold{fold}_report.json'\n",
    "            ), 'w'\n",
    "        ) as f:\n",
    "            json.dump(results, f)\n",
    "        all_results[idx].append(results)\n",
    "        # Save predictions\n",
    "        pd.DataFrame(\n",
    "            {\n",
    "                'labels': test_labels,\n",
    "                'predictions': predictions,\n",
    "                'predicted_label': binary_predictions,\n",
    "            }\n",
    "        ).to_csv(\n",
    "            os.path.join(\n",
    "                results_path, f'k={_k}', f'fold{fold}_results.csv'\n",
    "            )\n",
    "        )\n",
    "    logger.info(f'Fold {fold}: Reports generated and saved.')\n",
    "# Generate reports across folds\n",
    "for idx, _k in enumerate(range(k, 0, -2)):\n",
    "    df = pd.DataFrame(all_results[idx])\n",
    "    df.index = range(num_folds)\n",
    "    df.loc['mean'] = df.mean()\n",
    "    df.loc['std'] = df.std()\n",
    "    df.to_csv(os.path.join(results_path, f'knn_{_k}_cv_results.csv'))\n",
    "plot_roc_prc(results_path)"
   ]
  },
  {
   "cell_type": "code",
   "execution_count": null,
   "metadata": {},
   "outputs": [],
   "source": []
  }
 ],
 "metadata": {
  "kernelspec": {
   "display_name": "TITAN",
   "language": "python",
   "name": "python3"
  },
  "language_info": {
   "codemirror_mode": {
    "name": "ipython",
    "version": 3
   },
   "file_extension": ".py",
   "mimetype": "text/x-python",
   "name": "python",
   "nbconvert_exporter": "python",
   "pygments_lexer": "ipython3",
   "version": "3.10.8"
  },
  "orig_nbformat": 4,
  "vscode": {
   "interpreter": {
    "hash": "4f7fd3d153a2867921d405c8ab7da21acf69d8bb09c9f49838669528157728e7"
   }
  }
 },
 "nbformat": 4,
 "nbformat_minor": 2
}
